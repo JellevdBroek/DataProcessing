{
 "cells": [
  {
   "cell_type": "code",
   "execution_count": 127,
   "metadata": {
    "scrolled": false
   },
   "outputs": [
    {
     "name": "stdout",
     "output_type": "stream",
     "text": [
      "0\n"
     ]
    }
   ],
   "source": [
    "import pandas as pd\n",
    "\n",
    "nameList = [\"POSTCODE\", \"LON\", \"LAT\"]\n",
    "postList = []\n",
    "lonList = []\n",
    "latList = []\n",
    "\n",
    "with open(\"basoefen.txt\") as fIn, open(\"correct.csv\", \"w\") as fOut:\n",
    "    for i in range(len(nameList)):\n",
    "        fOut.write(nameList[i])\n",
    "        if nameList[i] != 'LAT':\n",
    "            fOut.write(',')\n",
    "    fOut.write(\"\\n\")\n",
    "    for line in fIn:\n",
    "        if \"coords\" in line:\n",
    "            count = 0\n",
    "            iterator = 0\n",
    "            abort = 0\n",
    "            for i in range(4):\n",
    "                postList.append(line[25+i])\n",
    "                fOut.write(postList[i])\n",
    "            fOut.write(',')\n",
    "            postList = []\n",
    "            for i in range(len(line[60:])):\n",
    "                if abort == 1:\n",
    "                    lonList[:] = (value for value in lonList if value != 's')\n",
    "                    lonList[:] = (value for value in lonList if value != 'h')\n",
    "                    lonList[:] = (value for value in lonList if value != 'p')\n",
    "                    lonList[:] = (value for value in lonList if value != 'o')\n",
    "                    lonList[:] = (value for value in lonList if value != 'l')\n",
    "                    lonList[:] = (value for value in lonList if value != ' ')\n",
    "                    lonList[:] = (value for value in lonList if value != '\"')\n",
    "                    latList[:] = (value for value in latList if value != 'p')\n",
    "                    latList[:] = (value for value in latList if value != 'e')\n",
    "                    latList[:] = (value for value in latList if value != '=')\n",
    "                    for j in range(len(postList)):\n",
    "                        if j % 4 == 0 and j != 0:\n",
    "                            fOut.write(',')\n",
    "                        fOut.write(postList[j])\n",
    "                    for j in range(len(lonList)):\n",
    "                        if j % 3 == 0 and j != 0:\n",
    "                            fOut.write(';')\n",
    "                        fOut.write(lonList[j])\n",
    "                        if j == len(lonList) - 1:\n",
    "                            fOut.write(',')\n",
    "                    for j in range(len(latList)):\n",
    "                        if j % 3 == 0 and j != 0:\n",
    "                            fOut.write(';')\n",
    "                        fOut.write(latList[j])\n",
    "                    fOut.write('\\n')\n",
    "                    lonList = []\n",
    "                    latList = []\n",
    "                    break\n",
    "                if count % 2 == 0:\n",
    "                    for j in range(3):\n",
    "                        lonList.append(line[60+iterator])\n",
    "                        iterator = iterator + 1\n",
    "                    count = count + 1\n",
    "                    iterator = iterator + 1\n",
    "                else:\n",
    "                    for j in range(3):\n",
    "                        if line[60+iterator] == '\"':\n",
    "                            abort = 1\n",
    "                            break\n",
    "                        else: \n",
    "                            latList.append(line[60+iterator])\n",
    "                            iterator = iterator + 1\n",
    "                    count = count + 1\n",
    "                    iterator = iterator + 1"
   ]
  },
  {
   "cell_type": "code",
   "execution_count": 128,
   "metadata": {
    "scrolled": true
   },
   "outputs": [
    {
     "name": "stdout",
     "output_type": "stream",
     "text": [
      "POSTCODE,LON,LAT\n",
      "\n",
      "1091,748;802;793;794;765;745;744;728;707;717,834;797;786;781;711;716;720;721;733;769\n",
      "\n",
      "1092,801;792;794;764;782;789;802;810;837,797;784;781;712;709;696;692;697;768\n",
      "\n",
      "1093,837;845;887;870;856;852;855;856;831;818;807,772;762;748;737;720;701;681;667;670;683;692\n",
      "\n",
      "1094,887;908;900;899;856;854;851;855;862;871;879,747;743;712;668;665;681;700;716;726;737;742\n",
      "\n",
      "1011,687;712;721;752;757;756;750;745;688;709;697;683;680;656;671;683,674;669;658;627;612;597;586;551;544;559;573;605;620;659;657;661\n",
      "\n",
      "1012,655;646;627;615;617;623;648;664;708;699;682,661;663;663;649;624;596;557;534;559;576;616\n",
      "\n",
      "1013,648;626;582;586;548;548;560;541;519;500;479;402;485;519;556;587;638;654;676;662;647;664,557;548;507;495;494;478;475;459;459;443;417;359;238;266;307;343;401;430;520;515;518;534\n",
      "\n",
      "1014,377;546;546;561;540;519;484;455;401;387;377;374,499;495;478;474;457;457;422;397;360;375;398;418\n",
      "\n",
      "1015,625;595;593;556;548;549;570;568;574;583;626;648,595;582;590;602;602;591;539;527;526;506;547;557\n",
      "\n",
      "1016,ay\n",
      "\n"
     ]
    }
   ],
   "source": [
    "with open(\"correct.csv\") as fIn:\n",
    "    for line in fIn:\n",
    "        print(line)"
   ]
  },
  {
   "cell_type": "code",
   "execution_count": 129,
   "metadata": {},
   "outputs": [
    {
     "name": "stdout",
     "output_type": "stream",
     "text": [
      "   POSTCODE                                                LON  \\\n",
      "0      1091            748;802;793;794;765;745;744;728;707;717   \n",
      "1      1092                801;792;794;764;782;789;802;810;837   \n",
      "2      1093        837;845;887;870;856;852;855;856;831;818;807   \n",
      "3      1094        887;908;900;899;856;854;851;855;862;871;879   \n",
      "4      1011  687;712;721;752;757;756;750;745;688;709;697;68...   \n",
      "5      1012        655;646;627;615;617;623;648;664;708;699;682   \n",
      "6      1013  648;626;582;586;548;548;560;541;519;500;479;40...   \n",
      "7      1014    377;546;546;561;540;519;484;455;401;387;377;374   \n",
      "8      1015    625;595;593;556;548;549;570;568;574;583;626;648   \n",
      "9      1016                                                 ay   \n",
      "\n",
      "                                                 LAT  \n",
      "0            834;797;786;781;711;716;720;721;733;769  \n",
      "1                797;784;781;712;709;696;692;697;768  \n",
      "2        772;762;748;737;720;701;681;667;670;683;692  \n",
      "3        747;743;712;668;665;681;700;716;726;737;742  \n",
      "4  674;669;658;627;612;597;586;551;544;559;573;60...  \n",
      "5        661;663;663;649;624;596;557;534;559;576;616  \n",
      "6  557;548;507;495;494;478;475;459;459;443;417;35...  \n",
      "7    499;495;478;474;457;457;422;397;360;375;398;418  \n",
      "8    595;582;590;602;602;591;539;527;526;506;547;557  \n",
      "9                                               None  \n"
     ]
    }
   ],
   "source": [
    "data = pd.read_csv(\"correct.csv\", engine=\"python\")\n",
    "print(data)"
   ]
  },
  {
   "cell_type": "code",
   "execution_count": null,
   "metadata": {},
   "outputs": [],
   "source": []
  },
  {
   "cell_type": "code",
   "execution_count": null,
   "metadata": {},
   "outputs": [],
   "source": []
  }
 ],
 "metadata": {
  "kernelspec": {
   "display_name": "Python 3",
   "language": "python",
   "name": "python3"
  },
  "language_info": {
   "codemirror_mode": {
    "name": "ipython",
    "version": 3
   },
   "file_extension": ".py",
   "mimetype": "text/x-python",
   "name": "python",
   "nbconvert_exporter": "python",
   "pygments_lexer": "ipython3",
   "version": "3.6.3"
  }
 },
 "nbformat": 4,
 "nbformat_minor": 2
}
